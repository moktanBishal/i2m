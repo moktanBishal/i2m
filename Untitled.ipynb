{
 "cells": [
  {
   "cell_type": "code",
   "execution_count": 1,
   "id": "95214b70",
   "metadata": {},
   "outputs": [],
   "source": [
    "from IPython.display import display, clear_output\n",
    "import turtle\n",
    "\n",
    "# Set up the turtle screen\n",
    "screen = turtle.Screen()\n",
    "screen.bgcolor(\"white\")\n",
    "\n",
    "# Create the turtle object (the moving object)\n",
    "moving_object = turtle.Turtle()\n",
    "moving_object.shape(\"circle\")  # You can choose a different shape\n",
    "moving_object.color(\"red\")\n",
    "moving_object.penup()  # Lift the pen to move without drawing\n",
    "\n",
    "# Function to move the object\n",
    "def move():\n",
    "    moving_object.forward(5)  # Move the object forward by 5 units\n",
    "    screen.ontimer(move, 50)  # Repeat the move function every 50 milliseconds\n",
    "\n",
    "# Start the animation\n",
    "move()\n"
   ]
  },
  {
   "cell_type": "code",
   "execution_count": null,
   "id": "baf7eec7",
   "metadata": {},
   "outputs": [],
   "source": []
  }
 ],
 "metadata": {
  "kernelspec": {
   "display_name": "Python 3 (ipykernel)",
   "language": "python",
   "name": "python3"
  },
  "language_info": {
   "codemirror_mode": {
    "name": "ipython",
    "version": 3
   },
   "file_extension": ".py",
   "mimetype": "text/x-python",
   "name": "python",
   "nbconvert_exporter": "python",
   "pygments_lexer": "ipython3",
   "version": "3.10.11"
  }
 },
 "nbformat": 4,
 "nbformat_minor": 5
}
